{
  "nbformat": 4,
  "nbformat_minor": 0,
  "metadata": {
    "colab": {
      "provenance": [],
      "authorship_tag": "ABX9TyPmzmm9RaDdnZexom9Owpn+",
      "include_colab_link": true
    },
    "kernelspec": {
      "name": "python3",
      "display_name": "Python 3"
    },
    "language_info": {
      "name": "python"
    }
  },
  "cells": [
    {
      "cell_type": "markdown",
      "metadata": {
        "id": "view-in-github",
        "colab_type": "text"
      },
      "source": [
        "<a href=\"https://colab.research.google.com/github/marayyy/GUVI-mentor-task/blob/main/Task_1.ipynb\" target=\"_parent\"><img src=\"https://colab.research.google.com/assets/colab-badge.svg\" alt=\"Open In Colab\"/></a>"
      ]
    },
    {
      "cell_type": "markdown",
      "source": [
        "# CREAT REGISTER LOGIN"
      ],
      "metadata": {
        "id": "UeR_vd4WQItf"
      }
    },
    {
      "cell_type": "markdown",
      "source": [
        "#function for register"
      ],
      "metadata": {
        "id": "AsyMWoR3SWD-"
      }
    },
    {
      "cell_type": "code",
      "source": [
        "def invalid_username(Email):\n",
        "    Email=input(\"Enter Email ID:\")\n",
        "    return username(Email)\n",
        "\n",
        "def username(Email):\n",
        "    format=r'\\b[A-Za-z0-9./%+-_]+@[a-zA-Z]+.[a-zA-Z]{2,}\\b'\n",
        "    if (re.fullmatch(format,Email)):\n",
        "        return Email\n",
        "    else:\n",
        "        print(\"Invalid username\")\n",
        "        return invalid_username(Email)"
      ],
      "metadata": {
        "id": "H24ZmpDiSilu"
      },
      "execution_count": null,
      "outputs": []
    },
    {
      "cell_type": "markdown",
      "source": [
        "#function for password"
      ],
      "metadata": {
        "id": "iol83X72Srt6"
      }
    },
    {
      "cell_type": "code",
      "source": [
        "def invalid_password(PW):\n",
        "    PW=input(\"Enter Password :\")\n",
        "    return password_type(PW)\n",
        "\n",
        "def password_type(PW):\n",
        "    l=0\n",
        "    u=0\n",
        "    num=0\n",
        "    spl=0\n",
        "    spl_char=\"!@#$%^()*/\\][{}.,\"\n",
        "    if len(PW)<=10:\n",
        "        for i in PW:\n",
        "            if (i.islower()):\n",
        "                l+=1\n",
        "            if (i.isupper()):\n",
        "                u+=1\n",
        "            if (i.isdigit()):\n",
        "                num+=1\n",
        "            if(i in spl_char):\n",
        "                spl+=1\n",
        "    if((l>=1)and(u>=1)and(num>=1)and(spl>=1) and l+u+num+spl==len(PW)):\n",
        "        return PW\n",
        "    else:\n",
        "        return invalid_password(PW)"
      ],
      "metadata": {
        "id": "Z5TwwylsSvEP"
      },
      "execution_count": null,
      "outputs": []
    },
    {
      "cell_type": "markdown",
      "source": [
        "#function for registartion"
      ],
      "metadata": {
        "id": "yUavWknDS2wb"
      }
    },
    {
      "cell_type": "code",
      "source": [
        "def register(user_input):\n",
        "    Email=input('Email-id:')\n",
        "    user_name=username(Email)\n",
        "    PW=input(\"enter password:\")\n",
        "    strong_password=password_type(PW)\n",
        "    file=open(\"Registration_Login.txt\",\"a\")\n",
        "    file.write(user_name)\n",
        "    file.write(\" \")\n",
        "    file.write(strong_password)\n",
        "    file.write(\"\\n\")\n",
        "    file.close()\n",
        "    print(\"Registered Successfully\")\n",
        "\n",
        "def retrive_data(Email):\n",
        "    file=open(\"Registration_Login.txt\",\"r\")\n",
        "    global a\n",
        "    l=file.readlines()\n",
        "    for i in l:   \n",
        "        l1=i.split()\n",
        "        if Email in l1:\n",
        "            a=i.split(\" \")\n",
        "            return a"
      ],
      "metadata": {
        "id": "hc6WTvFdS8-u"
      },
      "execution_count": null,
      "outputs": []
    },
    {
      "cell_type": "markdown",
      "source": [
        "#function for login"
      ],
      "metadata": {
        "id": "ItOB2odOTC0c"
      }
    },
    {
      "cell_type": "code",
      "source": [
        "def login(user_input):\n",
        "    Email=input('a_Email ID:')\n",
        "    username(Email)\n",
        "    password=input(\"Enter Password:\")\n",
        "    password_type(password)\n",
        "    retrive_data(Email)"
      ],
      "metadata": {
        "id": "PP53DVTMTJWb"
      },
      "execution_count": null,
      "outputs": []
    },
    {
      "cell_type": "markdown",
      "source": [
        "#forget password"
      ],
      "metadata": {
        "id": "tXrhGDSJTO1k"
      }
    },
    {
      "cell_type": "code",
      "source": [
        "def forget_password(user_input):\n",
        "    Email=input('Email-ID:')\n",
        "    username(Email)\n",
        "    retrive_data(Email)"
      ],
      "metadata": {
        "id": "BxxP6PwvTSZI"
      },
      "execution_count": null,
      "outputs": []
    },
    {
      "cell_type": "markdown",
      "source": [
        "#driver code"
      ],
      "metadata": {
        "id": "avRHF7CuTaIp"
      }
    },
    {
      "cell_type": "code",
      "source": [
        "import re\n",
        "user_input=input('A:Register B:Login C:forget password')\n",
        "if user_input==\"A\":\n",
        "    register(user_input)\n",
        "elif user_input==\"B\":\n",
        "    Email=input('a_Email-ID:')\n",
        "    username(Email)\n",
        "    password=input(\"Enter Password:\")\n",
        "    password_type(password)\n",
        "    retrive_data(Email)\n",
        "    try:\n",
        "        N_User=a[0]\n",
        "        N_pass=a[1].strip(\"\\n\")\n",
        "        if Email==N_User and password==N_pass:\n",
        "            print(\"LoggedIn Successfully\")\n",
        "    except:\n",
        "        print(\"please register\")\n",
        "        register(user_input)\n",
        "elif(user_input==\"C\"):\n",
        "    forget_password(user_input)\n",
        "    try:\n",
        "        F_User=a[0]\n",
        "        F_pass=a[1].strip(\"\\n\")\n",
        "        print(\"The password for the username:\",F_pass)\n",
        "        n=input(\"you can also provide new password by click 1\")\n",
        "        if n==\"1\":\n",
        "            password=input(\"Enter New password:\")\n",
        "            update_password=password_type(password)\n",
        "            file=open(\"Registration_Login.txt\",\"r\")\n",
        "            filedata=file.read()\n",
        "            filedata=filedata.replace(F_pass,update_password)\n",
        "            file=open(\"Registration_Login.txt\",\"w\")\n",
        "            file.write(filedata)\n",
        "            file.close()\n",
        "            print(\"success\\n\")\n",
        "    except:\n",
        "        print(\"please register\")\n",
        "        register(user_input)\n",
        "else:\n",
        "    print('wrong key, Try again!')"
      ],
      "metadata": {
        "colab": {
          "base_uri": "https://localhost:8080/"
        },
        "id": "F-CkNYi1Tc6F",
        "outputId": "5d2c99e8-cbe2-4638-b5fc-340bede7a260"
      },
      "execution_count": null,
      "outputs": [
        {
          "output_type": "stream",
          "name": "stdout",
          "text": [
            "A:Register B:Login C:forget passwordB\n",
            "a_Email-ID:maray@gmail.com\n",
            "Enter Password:P@s0\n",
            "LoggedIn Successfully\n"
          ]
        }
      ]
    }
  ]
}
