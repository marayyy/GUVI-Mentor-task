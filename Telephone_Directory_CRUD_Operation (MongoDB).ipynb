{
  "nbformat": 4,
  "nbformat_minor": 0,
  "metadata": {
    "colab": {
      "provenance": [],
      "authorship_tag": "ABX9TyOTZkXL1YQlNH8ztmtXs7CW",
      "include_colab_link": true
    },
    "kernelspec": {
      "name": "python3",
      "display_name": "Python 3"
    },
    "language_info": {
      "name": "python"
    }
  },
  "cells": [
    {
      "cell_type": "markdown",
      "metadata": {
        "id": "view-in-github",
        "colab_type": "text"
      },
      "source": [
        "<a href=\"https://colab.research.google.com/github/marayyy/Guvi-Tasks/blob/main/Telephone_Directory_CRUD_Operation.ipynb\" target=\"_parent\"><img src=\"https://colab.research.google.com/assets/colab-badge.svg\" alt=\"Open In Colab\"/></a>"
      ]
    },
    {
      "cell_type": "markdown",
      "source": [
        "# Connecting to Atlas & Creating New Database"
      ],
      "metadata": {
        "id": "0M30Z6bvQFUu"
      }
    },
    {
      "cell_type": "markdown",
      "source": [
        "Connect to Mongodb server"
      ],
      "metadata": {
        "id": "SGgmOFMRQIDe"
      }
    },
    {
      "cell_type": "code",
      "source": [
        "from pymongo import MongoClient\n",
        "import json"
      ],
      "metadata": {
        "id": "Z6eWUs5ILXNb"
      },
      "execution_count": 14,
      "outputs": []
    },
    {
      "cell_type": "code",
      "source": [
        "client=MongoClient(\"mongodb+srv://maray24021999:<####>@cluster0.fkrzenv.mongodb.net/test\")      #replace <####> with your own password\n",
        "print(client.list_database_names())"
      ],
      "metadata": {
        "colab": {
          "base_uri": "https://localhost:8080/"
        },
        "id": "nphUzWB8LwJU",
        "outputId": "32972c74-e1f3-4efc-fe44-74b19d3def87"
      },
      "execution_count": 16,
      "outputs": [
        {
          "output_type": "stream",
          "name": "stdout",
          "text": [
            "['countries', 'raj', 'sample_airbnb', 'sample_analytics', 'sample_geospatial', 'sample_guides', 'sample_mflix', 'sample_restaurants', 'sample_supplies', 'sample_training', 'sample_weatherdata', 'admin', 'local']\n"
          ]
        }
      ]
    },
    {
      "cell_type": "markdown",
      "source": [
        "creating New Database"
      ],
      "metadata": {
        "id": "V_Wg7gNvQfbn"
      }
    },
    {
      "cell_type": "code",
      "source": [
        "db=client['telephone_directory'] "
      ],
      "metadata": {
        "id": "bMQhL8ZvMHo-"
      },
      "execution_count": 17,
      "outputs": []
    },
    {
      "cell_type": "markdown",
      "source": [
        "creating new collection in the database"
      ],
      "metadata": {
        "id": "cH8Ri4RpQnJ0"
      }
    },
    {
      "cell_type": "code",
      "source": [
        "x=db['details']  "
      ],
      "metadata": {
        "id": "sv26j0L4MLQJ"
      },
      "execution_count": 18,
      "outputs": []
    },
    {
      "cell_type": "markdown",
      "source": [
        "# Getting Directory inputs"
      ],
      "metadata": {
        "id": "TDBiUVm3Qrbq"
      }
    },
    {
      "cell_type": "code",
      "source": [
        "Name = \"raj\" #@param {type:\"string\"}\n",
        "Age = 23 #@param {type:\"slider\", min:15, max:80, step:1}\n",
        "PhoneNo = 7878665731 #@param {type:\"integer\", max:80}\n",
        "place = \"Chennai\" #@param {type:\"string\"}\n",
        "Name = \"mosus\" #@param {type:\"string\"}\n",
        "Age = 23 #@param {type:\"slider\", min:15, max:80, step:1}\n",
        "PhoneNo = 78789085731 #@param {type:\"integer\", max:80}\n",
        "place = \"Mumbai\" #@param {type:\"string\"}"
      ],
      "metadata": {
        "id": "5pFPxqPWMYhS"
      },
      "execution_count": 34,
      "outputs": []
    },
    {
      "cell_type": "code",
      "source": [
        "record={'name':Name,'age' :Age,'phone_no' :PhoneNo,'place' :place}"
      ],
      "metadata": {
        "id": "jO28QsA0MkrD"
      },
      "execution_count": 35,
      "outputs": []
    },
    {
      "cell_type": "markdown",
      "source": [
        "# CRUD operations (Create, retrieve, update, and delete)"
      ],
      "metadata": {
        "id": "xK9nbVwgRg9b"
      }
    },
    {
      "cell_type": "markdown",
      "source": [
        "Insert record"
      ],
      "metadata": {
        "id": "Tx9W4So3Rn33"
      }
    },
    {
      "cell_type": "code",
      "source": [
        "x.insert_one(record)"
      ],
      "metadata": {
        "colab": {
          "base_uri": "https://localhost:8080/"
        },
        "id": "Cs3xwZRdMo9D",
        "outputId": "32c0d20e-3f9d-446f-f3ed-6828a5166d6e"
      },
      "execution_count": 36,
      "outputs": [
        {
          "output_type": "execute_result",
          "data": {
            "text/plain": [
              "<pymongo.results.InsertOneResult at 0x7f6eea979040>"
            ]
          },
          "metadata": {},
          "execution_count": 36
        }
      ]
    },
    {
      "cell_type": "markdown",
      "source": [
        "Find record"
      ],
      "metadata": {
        "id": "C1m_dbErRvDv"
      }
    },
    {
      "cell_type": "code",
      "source": [
        "query_1 = x.find()\n",
        "for i in query_1:\n",
        "  print(i)"
      ],
      "metadata": {
        "colab": {
          "base_uri": "https://localhost:8080/"
        },
        "id": "W41zL071MtO5",
        "outputId": "810e09dd-c907-4ddc-b3af-4cef57963cdb"
      },
      "execution_count": 37,
      "outputs": [
        {
          "output_type": "stream",
          "name": "stdout",
          "text": [
            "{'_id': ObjectId('639af2966c347cb087a2d806'), 'name': 'raj', 'age': 23, 'phone_no': 7878665731, 'place': 'Chennai'}\n",
            "{'_id': ObjectId('639af2eb6c347cb087a2d807'), 'name': 'mosus', 'age': 23, 'phone_no': 78789085731, 'place': 'Mumbai'}\n"
          ]
        }
      ]
    },
    {
      "cell_type": "markdown",
      "source": [
        "Modify record"
      ],
      "metadata": {
        "id": "zeVMKfR8R5VL"
      }
    },
    {
      "cell_type": "code",
      "source": [
        "query_2 = {'$set': {'email' : 'abc@gmail.com'}}\n",
        "x.update_one( {'name' : 'mosus'}, query_2 )\n",
        "list(x.find())"
      ],
      "metadata": {
        "colab": {
          "base_uri": "https://localhost:8080/"
        },
        "id": "NsFYbN3xNh5n",
        "outputId": "d7dbc4c5-1382-455a-d7b3-6d1d341fb613"
      },
      "execution_count": 40,
      "outputs": [
        {
          "output_type": "execute_result",
          "data": {
            "text/plain": [
              "[{'_id': ObjectId('639af2966c347cb087a2d806'),\n",
              "  'name': 'raj',\n",
              "  'age': 23,\n",
              "  'phone_no': 7878665731,\n",
              "  'place': 'Chennai'},\n",
              " {'_id': ObjectId('639af2eb6c347cb087a2d807'),\n",
              "  'name': 'mosus',\n",
              "  'age': 23,\n",
              "  'phone_no': 78789085731,\n",
              "  'place': 'Mumbai',\n",
              "  'email': 'abc@gmail.com'}]"
            ]
          },
          "metadata": {},
          "execution_count": 40
        }
      ]
    },
    {
      "cell_type": "markdown",
      "source": [
        "Delete record"
      ],
      "metadata": {
        "id": "pBdRxOAwSV1t"
      }
    },
    {
      "cell_type": "code",
      "source": [
        "query_3 = {'phone_no': 78789085731}\n",
        "x.delete_one( query_3 )\n",
        "list(x.find())"
      ],
      "metadata": {
        "colab": {
          "base_uri": "https://localhost:8080/"
        },
        "id": "7WVkFKSHNuA8",
        "outputId": "2ffef62f-2033-4615-dc9d-30affeec4ea1"
      },
      "execution_count": 41,
      "outputs": [
        {
          "output_type": "execute_result",
          "data": {
            "text/plain": [
              "[{'_id': ObjectId('639af2966c347cb087a2d806'),\n",
              "  'name': 'raj',\n",
              "  'age': 23,\n",
              "  'phone_no': 7878665731,\n",
              "  'place': 'Chennai'}]"
            ]
          },
          "metadata": {},
          "execution_count": 41
        }
      ]
    }
  ]
}
